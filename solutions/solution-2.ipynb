{
  "cells": [
    {
      "cell_type": "markdown",
      "metadata": {},
      "source": [
        "# Exercise 2 - The Data Producer Perspective\n",
        "## Dataset Description\n",
        "In this exercise we want to experience the effort it takes to provide a good description of a dataset as the data producer. To achieve that, we are looking at how our example dataset \"Order Positions\" is generated. Following that, we ask you to first provide a schema definition for our dataset and aftewards provide a free text description of the same. Please keep in mind all the issues we faced and discussed before and how the schema or the description could help pointing those out.\n",
        "## Dataset Generation\n",
        "The two cells below show the relevant core functions for the dataset generation. If you would like to understand the full context, feel free to execute the load function below to see the full code of the data generator."
      ]
    },
    {
      "cell_type": "code",
      "execution_count": 1,
      "metadata": {},
      "outputs": [],
      "source": [
        "#generation of single non-empty order line\n",
        "def generate_order_line(order_id, line_number):\n",
        "  article_id = random.choice(WEIGHTED_ARTICLE_IDS) #each bought article is a random choice factoring in the previously added weights\n",
        "  article_name = ARTICLES[article_id][0] #reference article name from the input dataset\n",
        "  article_description = ARTICLES[article_id][1] #reference article description from the input dataset\n",
        "  article_group = add_article_group(article_id) #reference article group from the input dataset, can be randomly empty in 5% of cases\n",
        "  original_price = ARTICLE_ORIGINAL_PRICES[article_id] #reference article original price, as previously generated\n",
        "  discounted_price = round(original_price*random.choice(DISCOUNT_WEIGHTS),2) #actual price factoring in a random discount\n",
        "  earnings_after_taxes = round(discounted_price*0.81, 2) #earnings after deducting 19% taxes\n",
        "  order_line = [[\n",
        "    str(order_id),\n",
        "    str(line_number),\n",
        "    str(article_id),\n",
        "    article_name,\n",
        "    article_description,\n",
        "    article_group,\n",
        "    str(original_price),\n",
        "    str(discounted_price),\n",
        "    str(earnings_after_taxes)]]\n",
        "  return order_line"
      ]
    },
    {
      "cell_type": "code",
      "execution_count": 2,
      "metadata": {},
      "outputs": [],
      "source": [
        "#generation of given number of orders\n",
        "def generate_orders(number_of_orders):\n",
        "  order_positions = []\n",
        "  for order_id in range(1, number_of_orders+1):\n",
        "    line_numbers = random.choice(LINE_NUMBER_COUNT_WEIGHTS) #randomly select between 0 and 5 items per order. Orders can be empty!\n",
        "    if line_numbers == 0: #handling of empty orders\n",
        "      order_positions += [[str(order_id), \"\", \"\", \"null\", \"null\", \"null\", \"0.00\", \"0.00\", \"0.00\"]]\n",
        "    else:\n",
        "      for line_number in range(1, line_numbers+1):\n",
        "        order_positions += generate_order_line(order_id, line_number)\n",
        "  return order_positions"
      ]
    },
    {
      "cell_type": "code",
      "execution_count": 3,
      "metadata": {},
      "outputs": [],
      "source": [
        "#if you would like to see the full code, feel free to run:\n",
        "%load ../data/data_gen.py"
      ]
    },
    {
      "cell_type": "markdown",
      "metadata": {},
      "source": [
        "## Provide a Dataset Schema\n"
      ]
    },
    {
      "cell_type": "code",
      "execution_count": 4,
      "metadata": {},
      "outputs": [],
      "source": [
        "Order_positions(\n",
        "  order_id integer not null,                   # 0-5 items per order\n",
        "  line_number integer nullable,                # orders can be empty\n",
        "  article_id integer nullable,                 # orders can be empty\n",
        "  article_name string not null,                # can be string \"null\"\n",
        "  article_description string not null,         # can be string \"null\"\n",
        "  article_group string nullable,               # group not always provided\n",
        "  original_price Decimal(35,2) not null,       # 0.00 for empty orders\n",
        "  discounted_price Decimal(35,2) not null,     # 0.00 for empty orders\n",
        "  earnings_after_taxes Decimal(35,2) not null  # 0.00 for empty orders\n",
        ")\n"
      ]
    },
    {
      "cell_type": "markdown",
      "metadata": {},
      "source": [
        "## Provide a Dataset Description\n",
        "Please use the space below to write a free text dataset description."
     ]
    },
    {
      "cell_type": "markdown",
      "metadata": {},
      "source": [
        "The Order_positions dataset contains all information related to the sales made through our platform. For each order placed by our customers multiple records are created that each represent one item bought within that order. A single record can always be identified by its order_id and a line_number, its position within that order. Please note, if all content of an order is returned by the customer, a reference to the order is kept through a record with the order_id, but empty remaining attributes.\n\n",
        "For each ordered item you will find additional article information. An article_id is kept as a reference that identifies the article. It is followed by an article_name, article_descriptions, and article_group. Please note, the upstream service that provides this information is not fully reliable which can lead to empty article_group values even for known articles.\n\n",
        "The dataset contains three different price values. The first one is the original_price of the article as listed in the shop, the second is the discounted_price which represents the actual sales value after applying an order specific discount. The third attribute contains the earnings_after_taxes which is the discounted_price minus 19% VAT."
      ]
    }
  ],
  "metadata": {
    "kernelspec": {
      "display_name": "Python 3",
      "language": "python",
      "name": "python3"
    },
    "language_info": {
      "codemirror_mode": {
        "name": "ipython",
        "version": 3
      },
      "file_extension": ".py",
      "mimetype": "text/x-python",
      "name": "python",
      "nbconvert_exporter": "python",
      "pygments_lexer": "ipython3",
      "version": "3.7.3"
    }
  },
  "nbformat": 4,
  "nbformat_minor": 2
}