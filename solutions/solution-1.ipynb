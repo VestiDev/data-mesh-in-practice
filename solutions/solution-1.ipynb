{
  "cells": [
    {
      "cell_type": "markdown",
      "metadata": {},
      "source": [
        "# Exercise 1 - The Data Consumer Perspective\n",
        "## Working with undocumented data\n",
        "This exercise is presenting you with an a order positions dataset of a fashion retailer who wants to analyze their sales with a set of business KPIs. Please answer those business KPIs by analyzing the dataset. The three questions we want to answer are:\n",
        "* Number of sold items per article\n",
        "* Average basket value\n",
        "* Total sales per article group\n",
        "\n",
        "Below you find an example that answers the first question. Please answer the remaining two questions underneath."
     ]
    },
    {
      "cell_type": "code",
      "execution_count": 1,
      "metadata": {},
      "outputs": [],
      "source": [
        "import csv\n",
        "\n",
        "dataset = []\n",
        "with open('../data/generated_data.csv', newline='\\n') as csvfile:\n",
        "  csvreader = csv.reader(csvfile, delimiter=',', quotechar='\\\\')\n",
        "  for row in csvreader:\n",
        "    dataset += [row]"
      ]
    },
    {
      "cell_type": "markdown",
      "metadata": {},
      "source": [
        "## Introduction Example - Number of Sold Items per Article"
     ]
    },
    {
      "cell_type": "code",
      "execution_count": 5,
      "metadata": {},
      "outputs": [],
      "source": [
        "article_sales = {}\n",
        "for order_position in dataset:\n",
        "  article = order_position[3]\n",
        "  if article in article_sales:\n",
        "    article_sales[article] += 1\n",
        "  else:\n",
        "    article_sales[article] = 1\n",
        "\n",
        "print(\"---------article sales counts---------\")\n",
        "for article in article_sales:\n",
        "  print(article + \": \" + str(article_sales[article]))\n"
      ]
    },
    {
      "cell_type": "markdown",
      "metadata": {},
      "source": [
        "## Average Basket Value\n",
        "Please calculate the average value per completed order."
     ]
    },
    {
      "cell_type": "code",
      "execution_count": 5,
      "metadata": {},
      "outputs": [],
      "source": [
        "from decimal import Decimal\n",
        "\n",
        "basket_values = {}\n",
        "for record in dataset:\n",
        "  key = record[0]\n",
        "  vals = record[7]\n",
        "  if(vals != \"0.00\"):\n",
        "    if(key in basket_values):\n",
        "      basket_values[key] += Decimal(vals)\n",
        "    else:\n",
        "      basket_values[key] = Decimal(vals)\n",
        "\n",
        "valid_basket_count = len(basket_values)\n",
        "total_basket_value = Decimal(0)\n",
        "for key in basket_values:\n",
        "  total_basket_value += basket_values[key]\n",
        "\n",
        "print(\"---------basket values---------\")\n",
        "print(\"sum of all sales (after discount): \" + str(total_basket_value))\n",
        "print(\"valid basket count: \" + str(valid_basket_count))\n",
        "\n",
        "average_basket_value = round(total_basket_value / valid_basket_count,2)\n",
        "print(\"average basket value: \" + str(average_basket_value))\n"
      ]
    },
    {
      "cell_type": "markdown",
      "metadata": {},
      "source": [
        "## Total Sales per Article Group\n",
        "Please calculate the total sales (count + value) per article group."
     ]
    },
    {
      "cell_type": "code",
      "execution_count": 5,
      "metadata": {},
      "outputs": [],
      "source": [
        "article_group_values = {}\n",
        "article_group_counts = {}\n",
        "for record in dataset:\n",
        "  key = record[5]\n",
        "  val = record[7]\n",
        "  if key in article_group_values:\n",
        "    article_group_values[key] += Decimal(val)\n",
        "    article_group_counts[key] += 1\n",
        "  else:\n",
        "    article_group_values[key] = Decimal(val)\n",
        "    article_group_counts[key] = 1\n",
        "\n",
        "print(\"---------article group values---------\")\n",
        "for key in article_group_values:\n",
        "  print(key + \": \" + str(article_group_values[key]))\n",
        "print(\"---------article group counts---------\")\n",
        "for key in article_group_counts:\n",
        "  print(key + \": \" + str(article_group_counts[key]))"
      ]
    }
  ],
  "metadata": {
    "kernelspec": {
      "display_name": "Python 3",
      "language": "python",
      "name": "python3"
    },
    "language_info": {
      "codemirror_mode": {
        "name": "ipython",
        "version": 3
      },
      "file_extension": ".py",
      "mimetype": "text/x-python",
      "name": "python",
      "nbconvert_exporter": "python",
      "pygments_lexer": "ipython3",
      "version": "3.7.3"
    }
  },
  "nbformat": 4,
  "nbformat_minor": 2
}