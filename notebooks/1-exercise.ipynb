{
 "cells": [
  {
   "cell_type": "markdown",
   "metadata": {},
   "source": [
    "# Exercise 1 - The Data Consumer Perspective\n",
    "## Working with undocumented data\n",
    "This exercise is presenting you with an a order positions dataset of a fashion retailer who wants to analyze their sales with a set of business KPIs. Please answer those business KPIs by analyzing the dataset. The three questions we want to answer are:\n",
    "* Number of sold items per article\n",
    "* Average basket value\n",
    "* Total sales per article group\n",
    "\n",
    "Below you find an example that answers the first question. Please answer the remaining two questions underneath."
   ]
  },
  {
   "cell_type": "code",
   "execution_count": null,
   "metadata": {},
   "outputs": [],
   "source": [
    "import csv\n",
    "import pandas as pd\n",
    "\n",
    "dataset = []\n",
    "with open('../data/generated_data.csv', newline='\\n') as csvfile:\n",
    "  csvreader = csv.reader(csvfile, delimiter=',', quotechar='\\\\')\n",
    "  for row in csvreader:\n",
    "    dataset += [row]"
   ]
  },
  {
   "cell_type": "markdown",
   "metadata": {},
   "source": [
    "## Introduction Example - Number of Sold Items per Article"
   ]
  },
  {
   "cell_type": "code",
   "execution_count": null,
   "metadata": {},
   "outputs": [],
   "source": [
    "article_sales = {}\n",
    "for order_position in dataset:\n",
    "  article = order_position[3]\n",
    "  if article in article_sales:\n",
    "    article_sales[article] += 1\n",
    "  else:\n",
    "    article_sales[article] = 1\n",
    "\n",
    "print(\"---------article sales counts---------\")\n",
    "for article in article_sales:\n",
    "  print(article + \": \" + str(article_sales[article]))\n"
   ]
  },
  {
   "cell_type": "markdown",
   "metadata": {},
   "source": [
    "### alternatively with pandas:"
   ]
  },
  {
   "cell_type": "code",
   "execution_count": null,
   "metadata": {},
   "outputs": [],
   "source": [
    "data_frame = pd.read_csv('../data/generated_data.csv', usecols=[3], names=['Article'])\n",
    "data_frame['Article'].value_counts(ascending=False)"
   ]
  },
  {
   "cell_type": "markdown",
   "metadata": {},
   "source": [
    "## Average Basket Value\n",
    "Please calculate the average value per completed order."
   ]
  },
  {
   "cell_type": "code",
   "execution_count": null,
   "metadata": {},
   "outputs": [],
   "source": [
    "#Write your average basket value calculation here"
   ]
  },
  {
   "cell_type": "markdown",
   "metadata": {},
   "source": [
    "## Total Sales per Article Group\n",
    "Please calculate the total sales (count + value) per article group."
   ]
  },
  {
   "cell_type": "code",
   "execution_count": null,
   "metadata": {},
   "outputs": [],
   "source": [
    "#Write your total sales per article group calculation here"
   ]
  }
 ],
 "metadata": {
  "kernelspec": {
   "display_name": "Python 3",
   "language": "python",
   "name": "python3"
  },
  "language_info": {
   "codemirror_mode": {
    "name": "ipython",
    "version": 3
   },
   "file_extension": ".py",
   "mimetype": "text/x-python",
   "name": "python",
   "nbconvert_exporter": "python",
   "pygments_lexer": "ipython3",
   "version": "3.7.3"
  }
 },
 "nbformat": 4,
 "nbformat_minor": 2
}
