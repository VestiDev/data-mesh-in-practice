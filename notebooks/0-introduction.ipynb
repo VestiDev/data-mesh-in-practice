{
 "cells": [
  {
   "cell_type": "markdown",
   "metadata": {},
   "source": [
    "# Introduction - Data Mesh in Practice\n",
    "## Technical Feasibility Check\n",
    "Welcome to the practical exercise part of Data Mesh in Practice. This is a very simple notebook that should allow you to check if your technical setup is operating correctly and if your notebooks can be operated as planned. Please execute the below hello world example and confirm that the output is as expected. If so, you are set up successfully to participate in today's practical exercises!"
   ]
  },
  {
   "cell_type": "code",
   "execution_count": 1,
   "metadata": {},
   "outputs": [],
   "source": [
    "print(\"Hello World!\")"
   ]
  },
  {
   "cell_type": "code",
   "execution_count": null,
   "metadata": {},
   "outputs": [],
   "source": [
    "import pandas as pd\n",
    "data = [['foo', 10], ['bar', 15], ['baz', 14]]\n",
    "pd.DataFrame(data, columns = ['Key', 'Value'])"
   ]
  }
 ],
 "metadata": {
  "kernelspec": {
   "display_name": "Python 3",
   "language": "python",
   "name": "python3"
  },
  "language_info": {
   "codemirror_mode": {
    "name": "ipython",
    "version": 3
   },
   "file_extension": ".py",
   "mimetype": "text/x-python",
   "name": "python",
   "nbconvert_exporter": "python",
   "pygments_lexer": "ipython3",
   "version": "3.7.3"
  }
 },
 "nbformat": 4,
 "nbformat_minor": 2
}
