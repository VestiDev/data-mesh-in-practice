{
  "cells": [
    {
      "cell_type": "markdown",
      "metadata": {},
      "source": [
        "# Demo - Decentralized Execution with Data Platform Support\n",
        "This demo will present a simplified version of a data access request workflow with platform support.\n",
        "## Data Catalog"
      ]
    },
    {
      "cell_type": "code",
      "execution_count": 1,
      "metadata": {},
      "outputs": [],
      "source": [
        "from access import search_catalog\n",
        "\n",
        "search_catalog()"
      ]
    },
    {
      "cell_type": "markdown",
      "metadata": {},
      "source": [
        "## The Access Request"
      ]
    },
    {
      "cell_type": "code",
      "execution_count": 2,
      "metadata": {},
      "outputs": [],
      "source": [
        "from access import request_access\n",
        "\n",
        "request_access(\n",
        " user_text=\"\", #free text field for user name\n",
        " user=\"\", #machine readible user name in the format first letter of first name + full last name, all lowercase\n",
        " dataset=\"\", #dataset name from data catalog\n",
        " request_text=\"\", #free text field for request reason\n",
        " access_mode=\"\", #read / write / full\n",
        ")"
      ]
    },
    {
      "cell_type": "markdown",
      "metadata": {},
      "source": [
        "## Check Requests"
      ]
    },
    {
      "cell_type": "code",
      "execution_count": 3,
      "metadata": {},
      "outputs": [],
      "source": [
        "from access import check_requests",
        "\n",
        "check_requests()"
      ]
    },
    {
      "cell_type": "code",
      "execution_count": 3,
      "metadata": {},
      "outputs": [],
      "source": [
        "from access import grant_access",
        "\n",
        "grant_access(user=\"mschultze\", dataset=\"order_positions\", access=\"read\")"
      ]
    }
  ],
  "metadata": {
    "kernelspec": {
      "display_name": "Python 3",
      "language": "python",
      "name": "python3"
    },
    "language_info": {
      "codemirror_mode": {
        "name": "ipython",
        "version": 3
      },
      "file_extension": ".py",
      "mimetype": "text/x-python",
      "name": "python",
      "nbconvert_exporter": "python",
      "pygments_lexer": "ipython3",
      "version": "3.7.3"
    }
  },
  "nbformat": 4,
  "nbformat_minor": 2
}