{
 "cells": [
  {
   "cell_type": "markdown",
   "metadata": {},
   "source": [
    "# Exercise 1 - The Data Consumer Perspective\n",
    "## Working with undocumented data\n",
    "This exercise is presenting you with an a order positions dataset of a fashion retailer who wants to analyze their sales with a set of business KPIs. Please answer those business KPIs by analyzing the dataset. The three questions we want to answer are:\n",
    "* Number of sold items per article\n",
    "* Average basket value\n",
    "* Total sales per article group\n",
    "\n",
    "Below you find an example that answers the first question. Please answer the remaining two questions underneath."
   ]
  },
  {
   "cell_type": "code",
   "execution_count": 18,
   "metadata": {},
   "outputs": [],
   "source": [
    "import csv\n",
    "import pandas as pd\n",
    "\n",
    "dataset = []\n",
    "with open('../data/generated_data.csv', newline='\\n') as csvfile:\n",
    "  csvreader = csv.reader(csvfile, delimiter=',', quotechar='\\\\')\n",
    "  for row in csvreader:\n",
    "    dataset += [row]"
   ]
  },
  {
   "cell_type": "markdown",
   "metadata": {},
   "source": [
    "## Introduction Example - Number of Sold Items per Article"
   ]
  },
  {
   "cell_type": "code",
   "execution_count": 2,
   "metadata": {},
   "outputs": [
    {
     "name": "stdout",
     "output_type": "stream",
     "text": [
      "---------article sales counts---------\n",
      "blue dress: 147\n",
      "tuxedo: 227\n",
      "grey shorts: 380\n",
      "brown belt: 204\n",
      "null: 107\n",
      "black shorts: 403\n",
      "white suite: 236\n",
      "yellow sneakers: 320\n",
      "black sunglasses: 290\n",
      "black tie: 330\n",
      "orange sneakers: 415\n",
      "brown shorts: 336\n",
      "purple running shoes: 303\n",
      "purple sneakers: 109\n",
      "THE shoe: 227\n",
      "pink pumps: 290\n",
      "brown sandals: 229\n",
      "white sneakers: 165\n",
      "yellow high heels: 299\n",
      "red high heels: 421\n",
      "white business shoes: 153\n",
      "pink business shoes: 344\n",
      "white t-shirt: 347\n",
      "blue skirt: 245\n",
      "colorful socks: 375\n",
      "blue socks: 354\n",
      "white slippers: 246\n",
      "white dress: 147\n",
      "black shirt: 215\n",
      "grey jeans: 390\n",
      "purple suite: 322\n",
      "black dress: 308\n",
      "blue sneakers: 312\n",
      "red shorts: 75\n",
      "red sport shoes: 294\n",
      "black high heels: 315\n",
      "green boots: 399\n",
      "brown boots: 392\n",
      "green suite: 409\n",
      "yellow pool slides: 252\n",
      "yellow suite: 76\n",
      "ugly christmas sweater: 355\n",
      "green bag: 219\n",
      "black boots: 244\n",
      "brown sneakers: 279\n",
      "grey hiking shoes: 339\n",
      "blue sport shoes: 306\n",
      "christmas suite: 254\n",
      "white shorts: 222\n",
      "green sneakers: 208\n",
      "purple sport shoes: 135\n",
      "black belt: 78\n",
      "orange running shoes: 407\n",
      "blue jeans: 326\n",
      "blue suite: 161\n",
      "black business shoes: 156\n",
      "black hiking shoes: 239\n",
      "grey slip-ons: 171\n",
      "black suite: 420\n",
      "red sneakers: 298\n",
      "white sandals: 314\n",
      "black hat: 66\n",
      "grey boots: 241\n",
      "blue pumps: 251\n",
      "hawaii shirt: 70\n",
      "blue t-shirt: 81\n",
      "beige shorts: 392\n",
      "brown business shoes: 213\n",
      "black pool slides: 303\n",
      "yellow tie: 67\n",
      "red shirt: 160\n",
      "yellow business shoes: 69\n",
      "branded t-shirt: 304\n",
      "black socks: 86\n",
      "white slip-ons: 423\n",
      "blue pool slides: 87\n",
      "green sport shoes: 164\n",
      "black slip-ons: 233\n",
      "black t-shirt: 363\n",
      "brown hiking shoes: 388\n",
      "white shirt: 84\n",
      "grey running shoes: 142\n",
      "red pool slides: 73\n",
      "yellow sport shoes: 241\n",
      "red t-shirt: 247\n",
      "white high heels: 315\n",
      "blue slippers: 150\n",
      "black jeans: 232\n",
      "white skirt: 75\n",
      "grey shirt: 245\n",
      "black skirt: 88\n",
      "grey slippers: 76\n",
      "black sneakers: 91\n",
      "purple dress: 70\n",
      "green skirt: 88\n",
      "green dress: 64\n",
      "red hat: 80\n",
      "black slippers: 67\n",
      "red dress: 63\n",
      "white sport shoes: 85\n",
      "pink suite: 140\n"
     ]
    }
   ],
   "source": [
    "article_sales = {}\n",
    "for order_position in dataset:\n",
    "  article = order_position[3]\n",
    "  if article in article_sales:\n",
    "    article_sales[article] += 1\n",
    "  else:\n",
    "    article_sales[article] = 1\n",
    "\n",
    "print(\"---------article sales counts---------\")\n",
    "for article in article_sales:\n",
    "  print(article + \": \" + str(article_sales[article]))\n"
   ]
  },
  {
   "cell_type": "code",
   "execution_count": 19,
   "metadata": {},
   "outputs": [
    {
     "data": {
      "text/plain": [
       "white slip-ons     423\n",
       "red high heels     421\n",
       "black suite        420\n",
       "orange sneakers    415\n",
       "green suite        409\n",
       "                  ... \n",
       "black slippers      67\n",
       "yellow tie          67\n",
       "black hat           66\n",
       "green dress         64\n",
       "red dress           63\n",
       "Name: Article, Length: 100, dtype: int64"
      ]
     },
     "execution_count": 19,
     "metadata": {},
     "output_type": "execute_result"
    }
   ],
   "source": [
    "data_frame = pd.read_csv('../data/generated_data.csv', usecols=[3], names=['Article'])\n",
    "data_frame['Article'].value_counts(ascending=False)"
   ]
  },
  {
   "cell_type": "markdown",
   "metadata": {},
   "source": [
    "## Average Basket Value\n",
    "Please calculate the average value per completed order."
   ]
  },
  {
   "cell_type": "code",
   "execution_count": 5,
   "metadata": {},
   "outputs": [],
   "source": [
    "#Write your average basket value calculation here"
   ]
  },
  {
   "cell_type": "markdown",
   "metadata": {},
   "source": [
    "## Total Sales per Article Group\n",
    "Please calculate the total sales (count + value) per article group."
   ]
  },
  {
   "cell_type": "code",
   "execution_count": 5,
   "metadata": {},
   "outputs": [],
   "source": [
    "#Write your total sales per article group calculation here"
   ]
  }
 ],
 "metadata": {
  "kernelspec": {
   "display_name": "Python 3",
   "language": "python",
   "name": "python3"
  },
  "language_info": {
   "codemirror_mode": {
    "name": "ipython",
    "version": 3
   },
   "file_extension": ".py",
   "mimetype": "text/x-python",
   "name": "python",
   "nbconvert_exporter": "python",
   "pygments_lexer": "ipython3",
   "version": "3.7.3"
  }
 },
 "nbformat": 4,
 "nbformat_minor": 2
}
