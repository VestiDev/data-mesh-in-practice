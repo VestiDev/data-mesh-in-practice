{
  "cells": [
    {
      "cell_type": "markdown",
      "metadata": {},
      "source": [
        "# Exercise 1 - The Data Consumer Perspective\n",
        "## Working with undocumented data\n",
        "Please use the space below to write a dataset schema definition."
     ]
    },
    {
      "cell_type": "code",
      "execution_count": 1,
      "metadata": {},
      "outputs": [],
      "source": [
        "import csv\n",
        "\n",
        "dataset = []\n",
        "with open('../data/generated_data.csv', newline='\\n') as csvfile:\n",
        "  csvreader = csv.reader(csvfile, delimiter=',', quotechar='\\\\')\n",
        "  for row in csvreader:\n",
        "    dataset += [row]"
      ]
    },
    {
      "cell_type": "markdown",
      "metadata": {},
      "source": [
        "## Introduction Example - Number of Sold Items per Article"
     ]
    },
    {
      "cell_type": "code",
      "execution_count": 5,
      "metadata": {},
      "outputs": [],
      "source": [
        "article_sales = {}\n",
        "for order_position in dataset:\n",
        "  article = order_position[3]\n",
        "  if article in article_sales:\n",
        "    article_sales[article] += 1\n",
        "  else:\n",
        "    article_sales[article] = 1\n",
        "\n",
        "print(\"---------article sales counts---------\")\n",
        "for article in article_sales:\n",
        "  print(article + \": \" + str(article_sales[article]))\n"
      ]
    },
    {
      "cell_type": "markdown",
      "metadata": {},
      "source": [
        "## Average Basket Value\n",
        "Please calculate the average value per completed order."
     ]
    },
    {
      "cell_type": "code",
      "execution_count": 5,
      "metadata": {},
      "outputs": [],
      "source": [
        "#Write your average basket value calculation here"
      ]
    },
    {
      "cell_type": "markdown",
      "metadata": {},
      "source": [
        "## Total Sales per Article Group\n",
        "Please calculate the total sales (count + value) per article group."
     ]
    },
    {
      "cell_type": "code",
      "execution_count": 5,
      "metadata": {},
      "outputs": [],
      "source": [
        "#Write your total sales per article group calculation here"
      ]
    }
  ],
  "metadata": {
    "kernelspec": {
      "display_name": "Python 3",
      "language": "python",
      "name": "python3"
    },
    "language_info": {
      "codemirror_mode": {
        "name": "ipython",
        "version": 3
      },
      "file_extension": ".py",
      "mimetype": "text/x-python",
      "name": "python",
      "nbconvert_exporter": "python",
      "pygments_lexer": "ipython3",
      "version": "3.7.3"
    }
  },
  "nbformat": 4,
  "nbformat_minor": 2
}