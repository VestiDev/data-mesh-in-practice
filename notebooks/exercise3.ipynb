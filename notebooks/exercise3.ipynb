{
 "cells": [
  {
  	"cell_type": "markdown",
  	"metadata": {},
  	"source": [
  		"# Exercise 3 - The Data Infrastructure Perspective\n## Data Access Requests\nIn this exercise we are looking at an example data access request for our previously introduced dataset \"Order Positions\". Below you find an imported function called `grant_access` that will allow you to fulfill the request. Please find the correct way of executing the function with the incomplete information that you have. The function itself will guide you towards the solution if you dont know the correct parameters."
  	]
  }
  {
  	"cell_type": "code",
  	"execution_count": 1,
  	"metadata": {},
  	"outputs": [],
  	"source": [
     "from access import grant_access"
  	]
  },
  {
  	"cell_type": "code",
  	"execution_count": 1,
  	"metadata": {},
  	"outputs": [],
  	"source": [
     "grant_access()"
  	]
  }
 ],
 "metadata": {
  "kernelspec": {
   "display_name": "Python 3",
   "language": "python",
   "name": "python3"
  },
  "language_info": {
   "codemirror_mode": {
    "name": "ipython",
    "version": 3
   },
   "file_extension": ".py",
   "mimetype": "text/x-python",
   "name": "python",
   "nbconvert_exporter": "python",
   "pygments_lexer": "ipython3",
   "version": "3.7.3"
  }
 },
 "nbformat": 4,
 "nbformat_minor": 2
}