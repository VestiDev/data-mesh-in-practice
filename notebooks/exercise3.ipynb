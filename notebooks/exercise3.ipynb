{
 "cells": [
  {
  	"cell_type": "code",
  	"execution_count": 1,
  	"metadata": {},
  	"outputs": [],
  	"source": [
     "from access import grant_access"
  	]
  },
  {
  	"cell_type": "code",
  	"execution_count": 1,
  	"metadata": {},
  	"outputs": [],
  	"source": [
     "grant_access()"
  	]
  }
 ]
}