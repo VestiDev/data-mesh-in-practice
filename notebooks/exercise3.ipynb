from access import grant_access

grant_access()