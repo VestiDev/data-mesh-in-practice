{
 "cells": [
  {
   "cell_type": "code",
   "execution_count": 1,
   "metadata": {},
   "outputs": [],
   "source": [
    "import pandas as pd"
   ]
  },
  {
   "cell_type": "code",
   "execution_count": 2,
   "metadata": {},
   "outputs": [],
   "source": [
    "data = pd.read_csv('../data/generated_data.csv')"
   ]
  },
  {
   "cell_type": "code",
   "execution_count": 3,
   "metadata": {},
   "outputs": [
    {
     "data": {
      "text/html": [
       "<div>\n",
       "<style scoped>\n",
       "    .dataframe tbody tr th:only-of-type {\n",
       "        vertical-align: middle;\n",
       "    }\n",
       "\n",
       "    .dataframe tbody tr th {\n",
       "        vertical-align: top;\n",
       "    }\n",
       "\n",
       "    .dataframe thead th {\n",
       "        text-align: right;\n",
       "    }\n",
       "</style>\n",
       "<table border=\"1\" class=\"dataframe\">\n",
       "  <thead>\n",
       "    <tr style=\"text-align: right;\">\n",
       "      <th></th>\n",
       "      <th>1</th>\n",
       "      <th>1.1</th>\n",
       "      <th>91</th>\n",
       "      <th>blue dress</th>\n",
       "      <th>beautiful evening dress</th>\n",
       "      <th>dresses</th>\n",
       "      <th>7.04</th>\n",
       "      <th>7.04.1</th>\n",
       "      <th>5.7</th>\n",
       "    </tr>\n",
       "  </thead>\n",
       "  <tbody>\n",
       "    <tr>\n",
       "      <th>0</th>\n",
       "      <td>1</td>\n",
       "      <td>2.0</td>\n",
       "      <td>58.0</td>\n",
       "      <td>tuxedo</td>\n",
       "      <td>the very special suit</td>\n",
       "      <td>suits</td>\n",
       "      <td>44.36</td>\n",
       "      <td>44.36</td>\n",
       "      <td>35.93</td>\n",
       "    </tr>\n",
       "    <tr>\n",
       "      <th>1</th>\n",
       "      <td>2</td>\n",
       "      <td>1.0</td>\n",
       "      <td>66.0</td>\n",
       "      <td>grey shorts</td>\n",
       "      <td>great summer shorts</td>\n",
       "      <td>trousers</td>\n",
       "      <td>40.80</td>\n",
       "      <td>32.64</td>\n",
       "      <td>26.44</td>\n",
       "    </tr>\n",
       "    <tr>\n",
       "      <th>2</th>\n",
       "      <td>2</td>\n",
       "      <td>2.0</td>\n",
       "      <td>98.0</td>\n",
       "      <td>brown belt</td>\n",
       "      <td>opens and closes</td>\n",
       "      <td>accessoirs</td>\n",
       "      <td>27.90</td>\n",
       "      <td>27.90</td>\n",
       "      <td>22.60</td>\n",
       "    </tr>\n",
       "    <tr>\n",
       "      <th>3</th>\n",
       "      <td>3</td>\n",
       "      <td>NaN</td>\n",
       "      <td>NaN</td>\n",
       "      <td>NaN</td>\n",
       "      <td>NaN</td>\n",
       "      <td>NaN</td>\n",
       "      <td>0.00</td>\n",
       "      <td>0.00</td>\n",
       "      <td>0.00</td>\n",
       "    </tr>\n",
       "    <tr>\n",
       "      <th>4</th>\n",
       "      <td>4</td>\n",
       "      <td>1.0</td>\n",
       "      <td>68.0</td>\n",
       "      <td>black shorts</td>\n",
       "      <td>great summer shorts</td>\n",
       "      <td>NaN</td>\n",
       "      <td>43.03</td>\n",
       "      <td>43.03</td>\n",
       "      <td>34.85</td>\n",
       "    </tr>\n",
       "  </tbody>\n",
       "</table>\n",
       "</div>"
      ],
      "text/plain": [
       "   1  1.1    91    blue dress beautiful evening dress     dresses   7.04  \\\n",
       "0  1  2.0  58.0        tuxedo   the very special suit       suits  44.36   \n",
       "1  2  1.0  66.0   grey shorts     great summer shorts    trousers  40.80   \n",
       "2  2  2.0  98.0    brown belt        opens and closes  accessoirs  27.90   \n",
       "3  3  NaN   NaN           NaN                     NaN         NaN   0.00   \n",
       "4  4  1.0  68.0  black shorts     great summer shorts         NaN  43.03   \n",
       "\n",
       "   7.04.1    5.7  \n",
       "0   44.36  35.93  \n",
       "1   32.64  26.44  \n",
       "2   27.90  22.60  \n",
       "3    0.00   0.00  \n",
       "4   43.03  34.85  "
      ]
     },
     "execution_count": 3,
     "metadata": {},
     "output_type": "execute_result"
    }
   ],
   "source": [
    "data.head()"
   ]
  },
  {
   "cell_type": "code",
   "execution_count": null,
   "metadata": {},
   "outputs": [],
   "source": []
  }
 ],
 "metadata": {
  "kernelspec": {
   "display_name": "Python 3",
   "language": "python",
   "name": "python3"
  },
  "language_info": {
   "codemirror_mode": {
    "name": "ipython",
    "version": 3
   },
   "file_extension": ".py",
   "mimetype": "text/x-python",
   "name": "python",
   "nbconvert_exporter": "python",
   "pygments_lexer": "ipython3",
   "version": "3.7.3"
  }
 },
 "nbformat": 4,
 "nbformat_minor": 2
}
