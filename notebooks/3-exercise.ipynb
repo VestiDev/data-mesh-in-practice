{
  "cells": [
    {
      "cell_type": "markdown",
      "metadata": {},
      "source": [
        "# Exercise 3 - The Data Infrastructure Perspective\n",
        "## Data Access Requests\n",
        "In this exercise we are looking at an example data access request for our previously introduced dataset \"Order Positions\". Below you find an imported function called `grant_access` that will allow you to fulfill the request. Please find the correct way of executing the function with the incomplete information that you have. The function itself will guide you towards the solution if you dont know the correct parameters."
      ]
    },
    {
      "cell_type": "markdown",
      "metadata": {},
      "source": [
        "## The Request\n",
        "Dear Infrastructure team,\n",
        "\n",
        "as a member of team XYZ, in order to fulfill the business purpose of providing reorder recommendations to our planners to increase availability over the season, I need access to this data of H120 and H220 to make some analysis on budget spent/planned and availability of our assortment, so that we can identify how could we better support our users based on the availability of the assortment data that we have now.\n",
        "\n",
        "Best Regards,\n",
        "Max Schultze"
      ]
    },
    {
      "cell_type": "code",
      "execution_count": 1,
      "metadata": {},
      "outputs": [],
      "source": [
        "from access import grant_access"
      ]
    },
    {
      "cell_type": "code",
      "execution_count": 2,
      "metadata": {},
      "outputs": [],
      "source": [
        "grant_access()"
      ]
    },
    {
      "cell_type": "markdown",
      "metadata": {},
      "source": [
        "## Scalability\n",
        "If you completed the exercise above, please start thinking about how to scale this challenge. Imagine instead of one, you now get dozens of access requests per day.\n",
        "* How would you scale the technical execution of those?\n",
        "* How would you scale on an organizational level?"
      ]
    },
    {
      "cell_type": "code",
      "execution_count": 3,
      "metadata": {},
      "outputs": [],
      "source": [
        "# use this area to take notes"
      ]
    }
  ],
  "metadata": {
    "kernelspec": {
      "display_name": "Python 3",
      "language": "python",
      "name": "python3"
    },
    "language_info": {
      "codemirror_mode": {
        "name": "ipython",
        "version": 3
      },
      "file_extension": ".py",
      "mimetype": "text/x-python",
      "name": "python",
      "nbconvert_exporter": "python",
      "pygments_lexer": "ipython3",
      "version": "3.7.3"
    }
  },
  "nbformat": 4,
  "nbformat_minor": 2
}